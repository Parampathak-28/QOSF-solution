{
  "nbformat": 4,
  "nbformat_minor": 0,
  "metadata": {
    "colab": {
      "provenance": [],
      "authorship_tag": "ABX9TyPdoqcOcsg1SCQM/A4ecYSE",
      "include_colab_link": true
    },
    "kernelspec": {
      "name": "python3",
      "display_name": "Python 3"
    },
    "language_info": {
      "name": "python"
    }
  },
  "cells": [
    {
      "cell_type": "markdown",
      "metadata": {
        "id": "view-in-github",
        "colab_type": "text"
      },
      "source": [
        "<a href=\"https://colab.research.google.com/github/Parampathak-28/QOSF-solution/blob/main/QOSF.ipynb\" target=\"_parent\"><img src=\"https://colab.research.google.com/assets/colab-badge.svg\" alt=\"Open In Colab\"/></a>"
      ]
    },
    {
      "cell_type": "code",
      "source": [
        "pip install qiskit"
      ],
      "metadata": {
        "colab": {
          "base_uri": "https://localhost:8080/"
        },
        "id": "Sra2NXlcH7pD",
        "outputId": "c101f120-edaa-420d-f659-8628b8910a98"
      },
      "execution_count": 2,
      "outputs": [
        {
          "output_type": "stream",
          "name": "stdout",
          "text": [
            "Collecting qiskit\n",
            "  Downloading qiskit-0.44.2-py3-none-any.whl (8.2 kB)\n",
            "Collecting qiskit-terra==0.25.2.1 (from qiskit)\n",
            "  Downloading qiskit_terra-0.25.2.1-cp38-abi3-manylinux_2_17_x86_64.manylinux2014_x86_64.whl (6.2 MB)\n",
            "\u001b[2K     \u001b[90m━━━━━━━━━━━━━━━━━━━━━━━━━━━━━━━━━━━━━━━━\u001b[0m \u001b[32m6.2/6.2 MB\u001b[0m \u001b[31m41.2 MB/s\u001b[0m eta \u001b[36m0:00:00\u001b[0m\n",
            "\u001b[?25hCollecting rustworkx>=0.13.0 (from qiskit-terra==0.25.2.1->qiskit)\n",
            "  Downloading rustworkx-0.13.2-cp310-cp310-manylinux_2_17_x86_64.manylinux2014_x86_64.whl (2.0 MB)\n",
            "\u001b[2K     \u001b[90m━━━━━━━━━━━━━━━━━━━━━━━━━━━━━━━━━━━━━━━━\u001b[0m \u001b[32m2.0/2.0 MB\u001b[0m \u001b[31m66.5 MB/s\u001b[0m eta \u001b[36m0:00:00\u001b[0m\n",
            "\u001b[?25hRequirement already satisfied: numpy>=1.17 in /usr/local/lib/python3.10/dist-packages (from qiskit-terra==0.25.2.1->qiskit) (1.23.5)\n",
            "Collecting ply>=3.10 (from qiskit-terra==0.25.2.1->qiskit)\n",
            "  Downloading ply-3.11-py2.py3-none-any.whl (49 kB)\n",
            "\u001b[2K     \u001b[90m━━━━━━━━━━━━━━━━━━━━━━━━━━━━━━━━━━━━━━━━\u001b[0m \u001b[32m49.6/49.6 kB\u001b[0m \u001b[31m4.8 MB/s\u001b[0m eta \u001b[36m0:00:00\u001b[0m\n",
            "\u001b[?25hRequirement already satisfied: psutil>=5 in /usr/local/lib/python3.10/dist-packages (from qiskit-terra==0.25.2.1->qiskit) (5.9.5)\n",
            "Requirement already satisfied: scipy>=1.5 in /usr/local/lib/python3.10/dist-packages (from qiskit-terra==0.25.2.1->qiskit) (1.11.3)\n",
            "Requirement already satisfied: sympy>=1.3 in /usr/local/lib/python3.10/dist-packages (from qiskit-terra==0.25.2.1->qiskit) (1.12)\n",
            "Collecting dill>=0.3 (from qiskit-terra==0.25.2.1->qiskit)\n",
            "  Downloading dill-0.3.7-py3-none-any.whl (115 kB)\n",
            "\u001b[2K     \u001b[90m━━━━━━━━━━━━━━━━━━━━━━━━━━━━━━━━━━━━━━\u001b[0m \u001b[32m115.3/115.3 kB\u001b[0m \u001b[31m11.4 MB/s\u001b[0m eta \u001b[36m0:00:00\u001b[0m\n",
            "\u001b[?25hRequirement already satisfied: python-dateutil>=2.8.0 in /usr/local/lib/python3.10/dist-packages (from qiskit-terra==0.25.2.1->qiskit) (2.8.2)\n",
            "Collecting stevedore>=3.0.0 (from qiskit-terra==0.25.2.1->qiskit)\n",
            "  Downloading stevedore-5.1.0-py3-none-any.whl (49 kB)\n",
            "\u001b[2K     \u001b[90m━━━━━━━━━━━━━━━━━━━━━━━━━━━━━━━━━━━━━━━━\u001b[0m \u001b[32m49.6/49.6 kB\u001b[0m \u001b[31m4.5 MB/s\u001b[0m eta \u001b[36m0:00:00\u001b[0m\n",
            "\u001b[?25hCollecting symengine<0.10,>=0.9 (from qiskit-terra==0.25.2.1->qiskit)\n",
            "  Downloading symengine-0.9.2-cp310-cp310-manylinux2010_x86_64.whl (37.5 MB)\n",
            "\u001b[2K     \u001b[90m━━━━━━━━━━━━━━━━━━━━━━━━━━━━━━━━━━━━━━━━\u001b[0m \u001b[32m37.5/37.5 MB\u001b[0m \u001b[31m17.8 MB/s\u001b[0m eta \u001b[36m0:00:00\u001b[0m\n",
            "\u001b[?25hRequirement already satisfied: typing-extensions in /usr/local/lib/python3.10/dist-packages (from qiskit-terra==0.25.2.1->qiskit) (4.5.0)\n",
            "Requirement already satisfied: six>=1.5 in /usr/local/lib/python3.10/dist-packages (from python-dateutil>=2.8.0->qiskit-terra==0.25.2.1->qiskit) (1.16.0)\n",
            "Collecting pbr!=2.1.0,>=2.0.0 (from stevedore>=3.0.0->qiskit-terra==0.25.2.1->qiskit)\n",
            "  Downloading pbr-5.11.1-py2.py3-none-any.whl (112 kB)\n",
            "\u001b[2K     \u001b[90m━━━━━━━━━━━━━━━━━━━━━━━━━━━━━━━━━━━━━━\u001b[0m \u001b[32m112.7/112.7 kB\u001b[0m \u001b[31m11.9 MB/s\u001b[0m eta \u001b[36m0:00:00\u001b[0m\n",
            "\u001b[?25hRequirement already satisfied: mpmath>=0.19 in /usr/local/lib/python3.10/dist-packages (from sympy>=1.3->qiskit-terra==0.25.2.1->qiskit) (1.3.0)\n",
            "Installing collected packages: ply, symengine, rustworkx, pbr, dill, stevedore, qiskit-terra, qiskit\n",
            "Successfully installed dill-0.3.7 pbr-5.11.1 ply-3.11 qiskit-0.44.2 qiskit-terra-0.25.2.1 rustworkx-0.13.2 stevedore-5.1.0 symengine-0.9.2\n"
          ]
        }
      ]
    },
    {
      "cell_type": "code",
      "source": [
        "pip install qiskit-aer\n"
      ],
      "metadata": {
        "colab": {
          "base_uri": "https://localhost:8080/"
        },
        "id": "FX05r8YEIMT7",
        "outputId": "5595c733-c917-4d97-9d90-403a0ab2c6e2"
      },
      "execution_count": 4,
      "outputs": [
        {
          "output_type": "stream",
          "name": "stdout",
          "text": [
            "Collecting qiskit-aer\n",
            "  Downloading qiskit_aer-0.12.2-cp310-cp310-manylinux_2_17_x86_64.manylinux2014_x86_64.whl (12.8 MB)\n",
            "\u001b[2K     \u001b[90m━━━━━━━━━━━━━━━━━━━━━━━━━━━━━━━━━━━━━━━━\u001b[0m \u001b[32m12.8/12.8 MB\u001b[0m \u001b[31m68.6 MB/s\u001b[0m eta \u001b[36m0:00:00\u001b[0m\n",
            "\u001b[?25hRequirement already satisfied: qiskit-terra>=0.21.0 in /usr/local/lib/python3.10/dist-packages (from qiskit-aer) (0.25.2.1)\n",
            "Requirement already satisfied: numpy>=1.16.3 in /usr/local/lib/python3.10/dist-packages (from qiskit-aer) (1.23.5)\n",
            "Requirement already satisfied: scipy>=1.0 in /usr/local/lib/python3.10/dist-packages (from qiskit-aer) (1.11.3)\n",
            "Requirement already satisfied: rustworkx>=0.13.0 in /usr/local/lib/python3.10/dist-packages (from qiskit-terra>=0.21.0->qiskit-aer) (0.13.2)\n",
            "Requirement already satisfied: ply>=3.10 in /usr/local/lib/python3.10/dist-packages (from qiskit-terra>=0.21.0->qiskit-aer) (3.11)\n",
            "Requirement already satisfied: psutil>=5 in /usr/local/lib/python3.10/dist-packages (from qiskit-terra>=0.21.0->qiskit-aer) (5.9.5)\n",
            "Requirement already satisfied: sympy>=1.3 in /usr/local/lib/python3.10/dist-packages (from qiskit-terra>=0.21.0->qiskit-aer) (1.12)\n",
            "Requirement already satisfied: dill>=0.3 in /usr/local/lib/python3.10/dist-packages (from qiskit-terra>=0.21.0->qiskit-aer) (0.3.7)\n",
            "Requirement already satisfied: python-dateutil>=2.8.0 in /usr/local/lib/python3.10/dist-packages (from qiskit-terra>=0.21.0->qiskit-aer) (2.8.2)\n",
            "Requirement already satisfied: stevedore>=3.0.0 in /usr/local/lib/python3.10/dist-packages (from qiskit-terra>=0.21.0->qiskit-aer) (5.1.0)\n",
            "Requirement already satisfied: symengine<0.10,>=0.9 in /usr/local/lib/python3.10/dist-packages (from qiskit-terra>=0.21.0->qiskit-aer) (0.9.2)\n",
            "Requirement already satisfied: typing-extensions in /usr/local/lib/python3.10/dist-packages (from qiskit-terra>=0.21.0->qiskit-aer) (4.5.0)\n",
            "Requirement already satisfied: six>=1.5 in /usr/local/lib/python3.10/dist-packages (from python-dateutil>=2.8.0->qiskit-terra>=0.21.0->qiskit-aer) (1.16.0)\n",
            "Requirement already satisfied: pbr!=2.1.0,>=2.0.0 in /usr/local/lib/python3.10/dist-packages (from stevedore>=3.0.0->qiskit-terra>=0.21.0->qiskit-aer) (5.11.1)\n",
            "Requirement already satisfied: mpmath>=0.19 in /usr/local/lib/python3.10/dist-packages (from sympy>=1.3->qiskit-terra>=0.21.0->qiskit-aer) (1.3.0)\n",
            "Installing collected packages: qiskit-aer\n",
            "Successfully installed qiskit-aer-0.12.2\n"
          ]
        }
      ]
    },
    {
      "cell_type": "code",
      "source": [
        "from qiskit import QuantumCircuit, Aer, transpile, assemble\n",
        "from qiskit.providers.aer import AerSimulator\n",
        "import math\n",
        "\n",
        "def quantum_oracle(n, negative_values):\n",
        "    oracle_circuit = QuantumCircuit(n)\n",
        "\n",
        "    for i, value in enumerate(negative_values):\n",
        "        if value < 0:\n",
        "            oracle_circuit.x(i)  # Apply X gate to mark negative values\n",
        "\n",
        "    return oracle_circuit\n",
        "\n",
        "def grover_circuit(n, negative_values):\n",
        "    num_qubits = n\n",
        "    quantum_circuit = QuantumCircuit(num_qubits)\n",
        "\n",
        "    # Number of Grover iterations to use for amplitude amplification\n",
        "    num_iterations = int(math.pi / 4 * math.sqrt(2**num_qubits))\n",
        "\n",
        "    # Initialize superposition\n",
        "    for qubit in range(num_qubits):\n",
        "        quantum_circuit.h(qubit)\n",
        "\n",
        "    # Grover's algorithm iterations\n",
        "    for _ in range(num_iterations):\n",
        "        # Oracle marking negative values\n",
        "        oracle = quantum_oracle(num_qubits, negative_values)\n",
        "        quantum_circuit = quantum_circuit.compose(oracle)\n",
        "\n",
        "        # Diffusion operator\n",
        "        for qubit in range(num_qubits):\n",
        "            quantum_circuit.h(qubit)\n",
        "        for qubit in range(num_qubits):\n",
        "            quantum_circuit.x(qubit)\n",
        "        quantum_circuit.h(num_qubits - 1)\n",
        "        quantum_circuit.mct(list(range(num_qubits - 1)), num_qubits - 1)\n",
        "        quantum_circuit.h(num_qubits - 1)\n",
        "        for qubit in range(num_qubits):\n",
        "            quantum_circuit.x(qubit)\n",
        "        for qubit in range(num_qubits):\n",
        "            quantum_circuit.h(qubit)\n",
        "\n",
        "    return quantum_circuit\n",
        "\n",
        "def find_negative_numbers(integer_list):\n",
        "    n = len(integer_list)\n",
        "\n",
        "    # Find negative values in the list\n",
        "    negative_values = [value for value in integer_list if value < 0]\n",
        "\n",
        "    if not negative_values:\n",
        "        return False  # No negative values found\n",
        "\n",
        "    # Implement Grover's algorithm to search for negative values\n",
        "    grover_quantum_circuit = grover_circuit(n, negative_values)\n",
        "\n",
        "    # Measure the quantum registers\n",
        "    grover_quantum_circuit.measure_all()\n",
        "\n",
        "    # Simulate the circuit\n",
        "    simulator = AerSimulator()\n",
        "    transpiled_circuit = transpile(grover_quantum_circuit, simulator)\n",
        "    job = simulator.run(transpiled_circuit, shots=1)\n",
        "    result = job.result()\n",
        "    counts = result.get_counts()\n",
        "\n",
        "\n",
        "    return bool(counts)\n",
        "\n",
        "# Example\n",
        "A = find_negative_numbers([1, -3, 2, 15])\n",
        "print(A)  # Should print \"True\"\n",
        "\n",
        "B = find_negative_numbers([1, 4, 8, 11])\n",
        "print(B)  # Should print \"False\"\n",
        "\n",
        "C = find_negative_numbers([-15, -14, 2, -1])\n",
        "print(C)  # Should print \"True\"\n"
      ],
      "metadata": {
        "colab": {
          "base_uri": "https://localhost:8080/"
        },
        "id": "boPwlnogYwyj",
        "outputId": "d3cd9058-d7e2-4d76-9bfb-d05eb6227074"
      },
      "execution_count": 37,
      "outputs": [
        {
          "output_type": "stream",
          "name": "stdout",
          "text": [
            "True\n",
            "False\n",
            "True\n"
          ]
        }
      ]
    },
    {
      "cell_type": "code",
      "source": [
        "from qiskit import QuantumCircuit, Aer, transpile, assemble\n",
        "from qiskit.providers.aer import AerSimulator\n",
        "import math\n",
        "\n",
        "def quantum_oracle(n, negative_values):\n",
        "    oracle_circuit = QuantumCircuit(n)\n",
        "\n",
        "    for i, value in enumerate(negative_values):\n",
        "        if value < 0:\n",
        "            oracle_circuit.x(i)  # Apply X gate to mark negative values\n",
        "\n",
        "    return oracle_circuit\n",
        "\n",
        "def grover_circuit(n, negative_values):\n",
        "    num_qubits = n\n",
        "    quantum_circuit = QuantumCircuit(num_qubits)\n",
        "\n",
        "    # Number of Grover iterations to use for amplitude amplification\n",
        "    num_iterations = int(math.pi / 4 * math.sqrt(2**num_qubits))\n",
        "\n",
        "    # Initialize superposition\n",
        "    for qubit in range(num_qubits):\n",
        "        quantum_circuit.h(qubit)\n",
        "\n",
        "    # Grover's algorithm iterations\n",
        "    for _ in range(num_iterations):\n",
        "        # Oracle marking negative values\n",
        "        oracle = quantum_oracle(num_qubits, negative_values)\n",
        "        quantum_circuit = quantum_circuit.compose(oracle)\n",
        "\n",
        "        # Diffusion operator\n",
        "        for qubit in range(num_qubits):\n",
        "            quantum_circuit.h(qubit)\n",
        "        for qubit in range(num_qubits):\n",
        "            quantum_circuit.x(qubit)\n",
        "        quantum_circuit.h(num_qubits - 1)\n",
        "        quantum_circuit.mct(list(range(num_qubits - 1)), num_qubits - 1)\n",
        "        quantum_circuit.h(num_qubits - 1)\n",
        "        for qubit in range(num_qubits):\n",
        "            quantum_circuit.x(qubit)\n",
        "        for qubit in range(num_qubits):\n",
        "            quantum_circuit.h(qubit)\n",
        "\n",
        "    return quantum_circuit\n",
        "\n",
        "def find_negative_numbers(integer_list):\n",
        "    n = len(integer_list)\n",
        "\n",
        "    # Find negative values in the list\n",
        "    negative_values = [value for value in integer_list if value < 0]\n",
        "\n",
        "    if not negative_values:\n",
        "        return False  # No negative values found\n",
        "\n",
        "    # Implement Grover's algorithm to search for negative values\n",
        "    grover_quantum_circuit = grover_circuit(n, negative_values)\n",
        "\n",
        "    # Measure the quantum registers\n",
        "    grover_quantum_circuit.measure_all()\n",
        "\n",
        "    # Print the quantum circuit\n",
        "    print(\"Quantum Circuit for Grover's Algorithm:\")\n",
        "    print(grover_quantum_circuit.draw(output=\"text\"))\n",
        "\n",
        "    # Simulate the circuit\n",
        "    simulator = AerSimulator()\n",
        "    transpiled_circuit = transpile(grover_quantum_circuit, simulator)\n",
        "    job = simulator.run(transpiled_circuit, shots=1)\n",
        "    result = job.result()\n",
        "    counts = result.get_counts()\n",
        "\n",
        "    # Check if any state was measured, indicating the presence of negative values\n",
        "    return bool(counts)\n",
        "\n",
        "# Example\n",
        "A = find_negative_numbers([1, -3, 2, 15])\n",
        "print(A)  # Should print \"True\"\n",
        "\n",
        "B = find_negative_numbers([1, 4, 8, 11])\n",
        "print(B)  # Should print \"False\"\n",
        "\n",
        "C = find_negative_numbers([-15, -14, 2, -1])\n",
        "print(C)  # Should print \"True\"\n"
      ],
      "metadata": {
        "colab": {
          "base_uri": "https://localhost:8080/"
        },
        "id": "Q0bB0onrY_TT",
        "outputId": "daee752a-2476-48cf-ddf8-140f53e77469"
      },
      "execution_count": 38,
      "outputs": [
        {
          "output_type": "stream",
          "name": "stdout",
          "text": [
            "Quantum Circuit for Grover's Algorithm:\n",
            "        ┌───┐┌───┐┌───┐┌───┐     ┌───┐┌───┐┌───┐┌───┐┌───┐          ┌───┐┌───┐»\n",
            "   q_0: ┤ H ├┤ X ├┤ H ├┤ X ├──■──┤ X ├┤ H ├┤ X ├┤ H ├┤ X ├───────■──┤ X ├┤ H ├»\n",
            "        ├───┤├───┤├───┤└───┘  │  ├───┤├───┤├───┤├───┤└───┘       │  ├───┤├───┤»\n",
            "   q_1: ┤ H ├┤ H ├┤ X ├───────■──┤ X ├┤ H ├┤ H ├┤ X ├────────────■──┤ X ├┤ H ├»\n",
            "        ├───┤├───┤├───┤       │  ├───┤├───┤├───┤├───┤            │  ├───┤├───┤»\n",
            "   q_2: ┤ H ├┤ H ├┤ X ├───────■──┤ X ├┤ H ├┤ H ├┤ X ├────────────■──┤ X ├┤ H ├»\n",
            "        ├───┤├───┤├───┤┌───┐┌─┴─┐├───┤├───┤├───┤├───┤┌───┐┌───┐┌─┴─┐├───┤├───┤»\n",
            "   q_3: ┤ H ├┤ H ├┤ X ├┤ H ├┤ X ├┤ H ├┤ X ├┤ H ├┤ H ├┤ X ├┤ H ├┤ X ├┤ H ├┤ X ├»\n",
            "        └───┘└───┘└───┘└───┘└───┘└───┘└───┘└───┘└───┘└───┘└───┘└───┘└───┘└───┘»\n",
            "meas: 4/══════════════════════════════════════════════════════════════════════»\n",
            "                                                                              »\n",
            "«        ┌───┐┌───┐┌───┐          ┌───┐┌───┐      ░ ┌─┐         \n",
            "«   q_0: ┤ X ├┤ H ├┤ X ├───────■──┤ X ├┤ H ├──────░─┤M├─────────\n",
            "«        ├───┤├───┤└───┘       │  ├───┤├───┤      ░ └╥┘┌─┐      \n",
            "«   q_1: ┤ H ├┤ X ├────────────■──┤ X ├┤ H ├──────░──╫─┤M├──────\n",
            "«        ├───┤├───┤            │  ├───┤├───┤      ░  ║ └╥┘┌─┐   \n",
            "«   q_2: ┤ H ├┤ X ├────────────■──┤ X ├┤ H ├──────░──╫──╫─┤M├───\n",
            "«        ├───┤├───┤┌───┐┌───┐┌─┴─┐├───┤├───┤┌───┐ ░  ║  ║ └╥┘┌─┐\n",
            "«   q_3: ┤ H ├┤ H ├┤ X ├┤ H ├┤ X ├┤ H ├┤ X ├┤ H ├─░──╫──╫──╫─┤M├\n",
            "«        └───┘└───┘└───┘└───┘└───┘└───┘└───┘└───┘ ░  ║  ║  ║ └╥┘\n",
            "«meas: 4/════════════════════════════════════════════╩══╩══╩══╩═\n",
            "«                                                    0  1  2  3 \n",
            "True\n",
            "False\n",
            "Quantum Circuit for Grover's Algorithm:\n",
            "        ┌───┐┌───┐┌───┐┌───┐     ┌───┐┌───┐┌───┐┌───┐┌───┐          ┌───┐┌───┐»\n",
            "   q_0: ┤ H ├┤ X ├┤ H ├┤ X ├──■──┤ X ├┤ H ├┤ X ├┤ H ├┤ X ├───────■──┤ X ├┤ H ├»\n",
            "        ├───┤├───┤├───┤├───┤  │  ├───┤├───┤├───┤├───┤├───┤       │  ├───┤├───┤»\n",
            "   q_1: ┤ H ├┤ X ├┤ H ├┤ X ├──■──┤ X ├┤ H ├┤ X ├┤ H ├┤ X ├───────■──┤ X ├┤ H ├»\n",
            "        ├───┤├───┤├───┤├───┤  │  ├───┤├───┤├───┤├───┤├───┤       │  ├───┤├───┤»\n",
            "   q_2: ┤ H ├┤ X ├┤ H ├┤ X ├──■──┤ X ├┤ H ├┤ X ├┤ H ├┤ X ├───────■──┤ X ├┤ H ├»\n",
            "        ├───┤├───┤├───┤├───┤┌─┴─┐├───┤├───┤├───┤├───┤├───┤┌───┐┌─┴─┐├───┤├───┤»\n",
            "   q_3: ┤ H ├┤ H ├┤ X ├┤ H ├┤ X ├┤ H ├┤ X ├┤ H ├┤ H ├┤ X ├┤ H ├┤ X ├┤ H ├┤ X ├»\n",
            "        └───┘└───┘└───┘└───┘└───┘└───┘└───┘└───┘└───┘└───┘└───┘└───┘└───┘└───┘»\n",
            "meas: 4/══════════════════════════════════════════════════════════════════════»\n",
            "                                                                              »\n",
            "«        ┌───┐┌───┐┌───┐          ┌───┐┌───┐      ░ ┌─┐         \n",
            "«   q_0: ┤ X ├┤ H ├┤ X ├───────■──┤ X ├┤ H ├──────░─┤M├─────────\n",
            "«        ├───┤├───┤├───┤       │  ├───┤├───┤      ░ └╥┘┌─┐      \n",
            "«   q_1: ┤ X ├┤ H ├┤ X ├───────■──┤ X ├┤ H ├──────░──╫─┤M├──────\n",
            "«        ├───┤├───┤├───┤       │  ├───┤├───┤      ░  ║ └╥┘┌─┐   \n",
            "«   q_2: ┤ X ├┤ H ├┤ X ├───────■──┤ X ├┤ H ├──────░──╫──╫─┤M├───\n",
            "«        ├───┤├───┤├───┤┌───┐┌─┴─┐├───┤├───┤┌───┐ ░  ║  ║ └╥┘┌─┐\n",
            "«   q_3: ┤ H ├┤ H ├┤ X ├┤ H ├┤ X ├┤ H ├┤ X ├┤ H ├─░──╫──╫──╫─┤M├\n",
            "«        └───┘└───┘└───┘└───┘└───┘└───┘└───┘└───┘ ░  ║  ║  ║ └╥┘\n",
            "«meas: 4/════════════════════════════════════════════╩══╩══╩══╩═\n",
            "«                                                    0  1  2  3 \n",
            "True\n"
          ]
        }
      ]
    },
    {
      "cell_type": "code",
      "source": [],
      "metadata": {
        "id": "D3X_kpovbkUe"
      },
      "execution_count": null,
      "outputs": []
    }
  ]
}